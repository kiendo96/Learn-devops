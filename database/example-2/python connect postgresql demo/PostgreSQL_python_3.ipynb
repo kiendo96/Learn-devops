{
 "cells": [
  {
   "cell_type": "code",
   "execution_count": 1,
   "metadata": {},
   "outputs": [],
   "source": [
    "import psycopg2"
   ]
  },
  {
   "cell_type": "code",
   "execution_count": 2,
   "metadata": {},
   "outputs": [],
   "source": [
    "def bulkInsert(records):\n",
    "    try:\n",
    "        connection = psycopg2.connect(user=\"postgres\",\n",
    "                                      password=\"123456\",\n",
    "                                      host=\"127.0.0.1\",\n",
    "                                      port=\"5432\",\n",
    "                                      database=\"dvdrental\")\n",
    "        cursor = connection.cursor()\n",
    "        sql_insert_query = \"\"\" INSERT INTO mobile (id, model, price) \n",
    "                           VALUES (%s,%s,%s) \"\"\"\n",
    "\n",
    "        # executemany() to insert multiple rows rows\n",
    "        result = cursor.executemany(sql_insert_query, records)\n",
    "        connection.commit()\n",
    "        print(cursor.rowcount, \"Record inserted successfully into mobile table\")\n",
    "\n",
    "    except (Exception, psycopg2.Error) as error:\n",
    "        print(\"Failed inserting record into mobile table {}\".format(error))\n",
    "\n",
    "    finally:\n",
    "        # closing database connection.\n",
    "        if (connection):\n",
    "            cursor.close()\n",
    "            connection.close()\n",
    "            print(\"PostgreSQL connection is closed\")\n"
   ]
  },
  {
   "cell_type": "code",
   "execution_count": 3,
   "metadata": {},
   "outputs": [
    {
     "name": "stdout",
     "output_type": "stream",
     "text": [
      "5 Record inserted successfully into mobile table\n",
      "PostgreSQL connection is closed\n"
     ]
    }
   ],
   "source": [
    "records_to_insert = [ (1,'Apple IPhone XS', 1000), (2,'Samsung Galaxy S9', 900), (3,'Google Pixel', 700), (4,'LG', 800) , (5,'One Plus 6', 950)]\n",
    "bulkInsert(records_to_insert)"
   ]
  },
  {
   "cell_type": "code",
   "execution_count": null,
   "metadata": {},
   "outputs": [],
   "source": []
  }
 ],
 "metadata": {
  "kernelspec": {
   "display_name": "Python 3",
   "language": "python",
   "name": "python3"
  },
  "language_info": {
   "codemirror_mode": {
    "name": "ipython",
    "version": 3
   },
   "file_extension": ".py",
   "mimetype": "text/x-python",
   "name": "python",
   "nbconvert_exporter": "python",
   "pygments_lexer": "ipython3",
   "version": "3.7.4"
  }
 },
 "nbformat": 4,
 "nbformat_minor": 4
}
