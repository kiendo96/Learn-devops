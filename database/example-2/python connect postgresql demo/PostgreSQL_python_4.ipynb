{
 "cells": [
  {
   "cell_type": "code",
   "execution_count": 1,
   "metadata": {},
   "outputs": [],
   "source": [
    "import psycopg2"
   ]
  },
  {
   "cell_type": "code",
   "execution_count": 2,
   "metadata": {},
   "outputs": [
    {
     "name": "stdout",
     "output_type": "stream",
     "text": [
      "Selecting rows from mobile table using cursor.fetchall\n",
      "Print each row and it's columns values\n",
      "Id =  1\n",
      "Model =  Apple IPhone XS\n",
      "Price  =  1000.0 \n",
      "\n",
      "Id =  2\n",
      "Model =  Samsung Galaxy S9\n",
      "Price  =  900.0 \n",
      "\n",
      "Id =  3\n",
      "Model =  Google Pixel\n",
      "Price  =  700.0 \n",
      "\n",
      "Id =  4\n",
      "Model =  LG\n",
      "Price  =  800.0 \n",
      "\n",
      "Id =  5\n",
      "Model =  One Plus 6\n",
      "Price  =  950.0 \n",
      "\n",
      "PostgreSQL connection is closed\n"
     ]
    }
   ],
   "source": [
    "try:\n",
    "    connection = psycopg2.connect(user = \"postgres\",\n",
    "                                  password = \"123456\",\n",
    "                                  host = \"127.0.0.1\",\n",
    "                                  port = \"5432\",\n",
    "                                  database = \"dvdrental\")\n",
    "\n",
    "    cursor = connection.cursor()\n",
    "    \n",
    "    postgreSQL_select_Query = \"select * from mobile\"\n",
    "\n",
    "    cursor.execute(postgreSQL_select_Query)\n",
    "    print(\"Selecting rows from mobile table using cursor.fetchall\")\n",
    "    mobile_records = cursor.fetchall() \n",
    "\n",
    "    print(\"Print each row and it's columns values\")\n",
    "    for row in mobile_records:\n",
    "       print(\"Id = \", row[0], )\n",
    "       print(\"Model = \", row[1])\n",
    "       print(\"Price  = \", row[2], \"\\n\")\n",
    "\n",
    "except (Exception, psycopg2.Error) as error :\n",
    "    print (\"Error while fetching data from PostgreSQL\", error)\n",
    "\n",
    "finally:\n",
    "    #closing database connection.\n",
    "    if(connection):\n",
    "        cursor.close()\n",
    "        connection.close()\n",
    "        print(\"PostgreSQL connection is closed\")"
   ]
  },
  {
   "cell_type": "code",
   "execution_count": null,
   "metadata": {},
   "outputs": [],
   "source": []
  }
 ],
 "metadata": {
  "kernelspec": {
   "display_name": "Python 3",
   "language": "python",
   "name": "python3"
  },
  "language_info": {
   "codemirror_mode": {
    "name": "ipython",
    "version": 3
   },
   "file_extension": ".py",
   "mimetype": "text/x-python",
   "name": "python",
   "nbconvert_exporter": "python",
   "pygments_lexer": "ipython3",
   "version": "3.6.8"
  }
 },
 "nbformat": 4,
 "nbformat_minor": 4
}
