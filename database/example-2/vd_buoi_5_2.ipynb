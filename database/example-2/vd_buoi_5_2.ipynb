{
 "cells": [
  {
   "cell_type": "code",
   "execution_count": 17,
   "id": "institutional-reproduction",
   "metadata": {},
   "outputs": [],
   "source": [
    "from mysql.connector import connect"
   ]
  },
  {
   "cell_type": "code",
   "execution_count": 18,
   "id": "facial-handling",
   "metadata": {},
   "outputs": [],
   "source": [
    "# tao connection\n",
    "# tao cursor de thuc hien cau truy van\n",
    "# doc va xu ly ket qua tra ve\n",
    "# dong cursor, dong connection"
   ]
  },
  {
   "cell_type": "code",
   "execution_count": 19,
   "id": "settled-academy",
   "metadata": {},
   "outputs": [],
   "source": [
    "# tao connection\n",
    "# chuan bi thong tin ket noi\n",
    "server ='phpmyadmin.laptrinhphp.net'\n",
    "db = 'gd_salesdb'\n",
    "username = 'hv'\n",
    "pwd = '123456'\n",
    "conn = connect(host=server, database=db, user=username, password=pwd)"
   ]
  },
  {
   "cell_type": "code",
   "execution_count": 20,
   "id": "subjective-momentum",
   "metadata": {},
   "outputs": [],
   "source": [
    "# tao cursor de thuc hien cau truy van\n",
    "sql = '''\n",
    "SELECT o.`ProductId`, SUM(o.`Quantity`) AS TongSL, p.ProductName FROM `orderitems` o\n",
    "JOIN products p ON o.ProductId = p.Id\n",
    "GROUP BY o.`ProductId`, p.ProductName ORDER BY TongSL DESC LIMIT 10\n",
    "'''\n",
    "cur = conn.cursor()\n",
    "cur.execute(sql)"
   ]
  },
  {
   "cell_type": "code",
   "execution_count": 21,
   "id": "municipal-valuation",
   "metadata": {},
   "outputs": [
    {
     "name": "stdout",
     "output_type": "stream",
     "text": [
      "(60, Decimal('1577'), 'Camembert Pierrot')\n",
      "(59, Decimal('1496'), 'Raclette Courdavault')\n",
      "(31, Decimal('1397'), 'Gorgonzola Telino')\n",
      "(56, Decimal('1263'), 'Gnocchi di nonna Alice')\n",
      "(16, Decimal('1158'), 'Pavlova')\n",
      "(75, Decimal('1155'), 'Rhönbräu Klosterbier')\n",
      "(24, Decimal('1125'), 'Guaraná Fantástica')\n",
      "(40, Decimal('1103'), 'Boston Crab Meat')\n",
      "(62, Decimal('1083'), 'Tarte au sucre')\n",
      "(2, Decimal('1057'), 'Chang')\n"
     ]
    }
   ],
   "source": [
    "# doc va xu ly ket qua tra ve\n",
    "for row in cur: # fetch one\n",
    "    print(row)"
   ]
  },
  {
   "cell_type": "code",
   "execution_count": 22,
   "id": "entitled-feeding",
   "metadata": {},
   "outputs": [],
   "source": [
    "# dong cursor, dong connection\n",
    "cur.close()\n",
    "conn.close()"
   ]
  },
  {
   "cell_type": "code",
   "execution_count": null,
   "id": "rocky-portuguese",
   "metadata": {},
   "outputs": [],
   "source": []
  }
 ],
 "metadata": {
  "kernelspec": {
   "display_name": "Python 3",
   "language": "python",
   "name": "python3"
  },
  "language_info": {
   "codemirror_mode": {
    "name": "ipython",
    "version": 3
   },
   "file_extension": ".py",
   "mimetype": "text/x-python",
   "name": "python",
   "nbconvert_exporter": "python",
   "pygments_lexer": "ipython3",
   "version": "3.9.2"
  }
 },
 "nbformat": 4,
 "nbformat_minor": 5
}
