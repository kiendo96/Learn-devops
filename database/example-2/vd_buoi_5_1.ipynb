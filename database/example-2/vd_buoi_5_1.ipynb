{
 "cells": [
  {
   "cell_type": "code",
   "execution_count": 1,
   "id": "incoming-northern",
   "metadata": {},
   "outputs": [],
   "source": [
    "from mysql.connector import connect"
   ]
  },
  {
   "cell_type": "code",
   "execution_count": 2,
   "id": "renewable-affiliate",
   "metadata": {},
   "outputs": [],
   "source": [
    "# tao connection\n",
    "# tao cursor de thuc hien cau truy van\n",
    "# doc va xu ly ket qua tra ve\n",
    "# dong cursor, dong connection"
   ]
  },
  {
   "cell_type": "code",
   "execution_count": 4,
   "id": "logical-product",
   "metadata": {},
   "outputs": [],
   "source": [
    "# tao connection\n",
    "# chuan bi thong tin ket noi\n",
    "server ='phpmyadmin.laptrinhphp.net'\n",
    "db = 'gd_salesdb'\n",
    "username = 'hv'\n",
    "pwd = '123456'\n",
    "conn = connect(host=server, database=db, user=username, password=pwd)"
   ]
  },
  {
   "cell_type": "code",
   "execution_count": 8,
   "id": "ranging-coral",
   "metadata": {},
   "outputs": [],
   "source": [
    "# tao cursor de thuc hien cau truy van\n",
    "sql = 'select id, ProductName, UnitPrice from products where IsDiscontinued=0 limit 10'\n",
    "cur = conn.cursor()\n",
    "cur.execute(sql)"
   ]
  },
  {
   "cell_type": "code",
   "execution_count": 9,
   "id": "accepted-canal",
   "metadata": {},
   "outputs": [
    {
     "name": "stdout",
     "output_type": "stream",
     "text": [
      "(1, 'Chai', Decimal('18.00'))\n",
      "(2, 'Chang', Decimal('19.00'))\n",
      "(3, 'Aniseed Syrup', Decimal('10.00'))\n",
      "(4, \"Chef Anton's Ca6/Seasoning\", Decimal('22.00'))\n",
      "(6, \"Grandma's Boysenberry Spread\", Decimal('25.00'))\n",
      "(7, \"Uncle Bob's Organic Dried Pears\", Decimal('30.00'))\n",
      "(8, 'Northwoods Cranberry Sauce', Decimal('40.00'))\n",
      "(10, 'Ikura', Decimal('31.00'))\n",
      "(11, 'Queso Cabrales', Decimal('21.00'))\n",
      "(12, 'Queso Manchego La Pastora', Decimal('38.00'))\n"
     ]
    }
   ],
   "source": [
    "# doc va xu ly ket qua tra ve\n",
    "for row in cur: # fetch one\n",
    "    print(row)"
   ]
  },
  {
   "cell_type": "code",
   "execution_count": 10,
   "id": "supreme-southwest",
   "metadata": {},
   "outputs": [],
   "source": [
    "# dong cursor, dong connection\n",
    "cur.close()\n",
    "conn.close()"
   ]
  },
  {
   "cell_type": "code",
   "execution_count": null,
   "id": "sudden-apparatus",
   "metadata": {},
   "outputs": [],
   "source": []
  }
 ],
 "metadata": {
  "kernelspec": {
   "display_name": "Python 3",
   "language": "python",
   "name": "python3"
  },
  "language_info": {
   "codemirror_mode": {
    "name": "ipython",
    "version": 3
   },
   "file_extension": ".py",
   "mimetype": "text/x-python",
   "name": "python",
   "nbconvert_exporter": "python",
   "pygments_lexer": "ipython3",
   "version": "3.9.2"
  }
 },
 "nbformat": 4,
 "nbformat_minor": 5
}
